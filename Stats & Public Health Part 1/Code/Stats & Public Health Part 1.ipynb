{
 "cells": [
  {
   "cell_type": "markdown",
   "id": "e27654ed",
   "metadata": {},
   "source": [
    "# Statistics & Public Health 1\n",
    "### Audrey Gilbreath\n",
    "#### 8/2/22\n",
    "<a id = 'title'></a>"
   ]
  },
  {
   "cell_type": "code",
   "execution_count": 5,
   "id": "0848506c",
   "metadata": {},
   "outputs": [],
   "source": [
    "import pandas as pd\n",
    "import numpy as np\n",
    "import matplotlib.pyplot as plt\n",
    "import seaborn as sns\n",
    "import plotly.express as px\n",
    "from scipy.stats import norm\n",
    "\n",
    "mos = pd.read_csv('mosquito_data.csv')"
   ]
  },
  {
   "cell_type": "markdown",
   "id": "ea0a71d2",
   "metadata": {},
   "source": [
    "## Part 1 - Basic Data Wrangling"
   ]
  },
  {
   "cell_type": "markdown",
   "id": "98d536be",
   "metadata": {},
   "source": [
    "### Question 1\n",
    "##### Finding shape of dataframe"
   ]
  },
  {
   "cell_type": "code",
   "execution_count": 6,
   "id": "edbfca86",
   "metadata": {},
   "outputs": [
    {
     "data": {
      "text/plain": [
       "(18495, 13)"
      ]
     },
     "execution_count": 6,
     "metadata": {},
     "output_type": "execute_result"
    }
   ],
   "source": [
    "mos.shape"
   ]
  },
  {
   "cell_type": "markdown",
   "id": "54a5ac44",
   "metadata": {},
   "source": [
    "### Question 2\n",
    "##### Convert dataypes to proper types."
   ]
  },
  {
   "cell_type": "markdown",
   "id": "7831f445",
   "metadata": {},
   "source": [
    "Check datatype of 'Date' column"
   ]
  },
  {
   "cell_type": "code",
   "execution_count": 7,
   "id": "c895b59f",
   "metadata": {},
   "outputs": [
    {
     "name": "stdout",
     "output_type": "stream",
     "text": [
      "<class 'pandas.core.frame.DataFrame'>\n",
      "RangeIndex: 18495 entries, 0 to 18494\n",
      "Data columns (total 13 columns):\n",
      " #   Column           Non-Null Count  Dtype  \n",
      "---  ------           --------------  -----  \n",
      " 0   Year             18495 non-null  int64  \n",
      " 1   Week             18495 non-null  int64  \n",
      " 2   Address Block    18495 non-null  object \n",
      " 3   Block            18495 non-null  int64  \n",
      " 4   Trap             18495 non-null  object \n",
      " 5   Trap type        18495 non-null  object \n",
      " 6   Date             18495 non-null  object \n",
      " 7   Mosquito number  18495 non-null  int64  \n",
      " 8   Mosquito ID      18495 non-null  object \n",
      " 9   WNV Present      18495 non-null  object \n",
      " 10  Species          18495 non-null  object \n",
      " 11  Lat              15571 non-null  float64\n",
      " 12  Lon              15571 non-null  float64\n",
      "dtypes: float64(2), int64(4), object(7)\n",
      "memory usage: 1.8+ MB\n"
     ]
    }
   ],
   "source": [
    "mos.info()"
   ]
  },
  {
   "cell_type": "markdown",
   "id": "de074d91",
   "metadata": {},
   "source": [
    "'Date' column is object datatype. Will convert it to datetime datatype"
   ]
  },
  {
   "cell_type": "code",
   "execution_count": 8,
   "id": "7f7d5b85",
   "metadata": {},
   "outputs": [
    {
     "data": {
      "text/html": [
       "<div>\n",
       "<style scoped>\n",
       "    .dataframe tbody tr th:only-of-type {\n",
       "        vertical-align: middle;\n",
       "    }\n",
       "\n",
       "    .dataframe tbody tr th {\n",
       "        vertical-align: top;\n",
       "    }\n",
       "\n",
       "    .dataframe thead th {\n",
       "        text-align: right;\n",
       "    }\n",
       "</style>\n",
       "<table border=\"1\" class=\"dataframe\">\n",
       "  <thead>\n",
       "    <tr style=\"text-align: right;\">\n",
       "      <th></th>\n",
       "      <th>Year</th>\n",
       "      <th>Week</th>\n",
       "      <th>Address Block</th>\n",
       "      <th>Block</th>\n",
       "      <th>Trap</th>\n",
       "      <th>Trap type</th>\n",
       "      <th>Date</th>\n",
       "      <th>Mosquito number</th>\n",
       "      <th>Mosquito ID</th>\n",
       "      <th>WNV Present</th>\n",
       "      <th>Species</th>\n",
       "      <th>Lat</th>\n",
       "      <th>Lon</th>\n",
       "    </tr>\n",
       "  </thead>\n",
       "  <tbody>\n",
       "    <tr>\n",
       "      <th>0</th>\n",
       "      <td>2019</td>\n",
       "      <td>39</td>\n",
       "      <td>100XX W OHARE AIRPORT</td>\n",
       "      <td>100</td>\n",
       "      <td>T910</td>\n",
       "      <td>GRAVID</td>\n",
       "      <td>2019-09-26 00:09:00</td>\n",
       "      <td>2</td>\n",
       "      <td>Res</td>\n",
       "      <td>negative</td>\n",
       "      <td>CULEX RESTUANS</td>\n",
       "      <td>NaN</td>\n",
       "      <td>NaN</td>\n",
       "    </tr>\n",
       "    <tr>\n",
       "      <th>1</th>\n",
       "      <td>2019</td>\n",
       "      <td>39</td>\n",
       "      <td>52XX S KOLMAR AVE</td>\n",
       "      <td>52</td>\n",
       "      <td>T114</td>\n",
       "      <td>GRAVID</td>\n",
       "      <td>2019-09-26 00:09:00</td>\n",
       "      <td>1</td>\n",
       "      <td>Res</td>\n",
       "      <td>negative</td>\n",
       "      <td>CULEX RESTUANS</td>\n",
       "      <td>41.798211</td>\n",
       "      <td>-87.736925</td>\n",
       "    </tr>\n",
       "    <tr>\n",
       "      <th>2</th>\n",
       "      <td>2019</td>\n",
       "      <td>39</td>\n",
       "      <td>58XX N WESTERN AVE</td>\n",
       "      <td>58</td>\n",
       "      <td>T028</td>\n",
       "      <td>GRAVID</td>\n",
       "      <td>2019-09-26 00:09:00</td>\n",
       "      <td>2</td>\n",
       "      <td>Res</td>\n",
       "      <td>negative</td>\n",
       "      <td>CULEX RESTUANS</td>\n",
       "      <td>41.987245</td>\n",
       "      <td>-87.689417</td>\n",
       "    </tr>\n",
       "    <tr>\n",
       "      <th>3</th>\n",
       "      <td>2019</td>\n",
       "      <td>39</td>\n",
       "      <td>39XX N SPRINGFIELD AVE</td>\n",
       "      <td>39</td>\n",
       "      <td>T228</td>\n",
       "      <td>GRAVID</td>\n",
       "      <td>2019-09-26 00:09:00</td>\n",
       "      <td>1</td>\n",
       "      <td>Res</td>\n",
       "      <td>negative</td>\n",
       "      <td>CULEX RESTUANS</td>\n",
       "      <td>41.953664</td>\n",
       "      <td>-87.724987</td>\n",
       "    </tr>\n",
       "    <tr>\n",
       "      <th>4</th>\n",
       "      <td>2019</td>\n",
       "      <td>39</td>\n",
       "      <td>131XX S BRANDON AVE</td>\n",
       "      <td>131</td>\n",
       "      <td>T209</td>\n",
       "      <td>GRAVID</td>\n",
       "      <td>2019-09-26 00:09:00</td>\n",
       "      <td>9</td>\n",
       "      <td>Res</td>\n",
       "      <td>negative</td>\n",
       "      <td>CULEX RESTUANS</td>\n",
       "      <td>41.657069</td>\n",
       "      <td>-87.546049</td>\n",
       "    </tr>\n",
       "  </tbody>\n",
       "</table>\n",
       "</div>"
      ],
      "text/plain": [
       "   Year  Week           Address Block  Block  Trap Trap type  \\\n",
       "0  2019    39   100XX W OHARE AIRPORT    100  T910    GRAVID   \n",
       "1  2019    39       52XX S KOLMAR AVE     52  T114    GRAVID   \n",
       "2  2019    39      58XX N WESTERN AVE     58  T028    GRAVID   \n",
       "3  2019    39  39XX N SPRINGFIELD AVE     39  T228    GRAVID   \n",
       "4  2019    39     131XX S BRANDON AVE    131  T209    GRAVID   \n",
       "\n",
       "                 Date  Mosquito number Mosquito ID WNV Present  \\\n",
       "0 2019-09-26 00:09:00                2         Res    negative   \n",
       "1 2019-09-26 00:09:00                1         Res    negative   \n",
       "2 2019-09-26 00:09:00                2         Res    negative   \n",
       "3 2019-09-26 00:09:00                1         Res    negative   \n",
       "4 2019-09-26 00:09:00                9         Res    negative   \n",
       "\n",
       "          Species        Lat        Lon  \n",
       "0  CULEX RESTUANS        NaN        NaN  \n",
       "1  CULEX RESTUANS  41.798211 -87.736925  \n",
       "2  CULEX RESTUANS  41.987245 -87.689417  \n",
       "3  CULEX RESTUANS  41.953664 -87.724987  \n",
       "4  CULEX RESTUANS  41.657069 -87.546049  "
      ]
     },
     "execution_count": 8,
     "metadata": {},
     "output_type": "execute_result"
    }
   ],
   "source": [
    "mos['Date'] = pd.to_datetime(mos['Date'])\n",
    "\n",
    "mos.head()"
   ]
  },
  {
   "cell_type": "markdown",
   "id": "625e4414",
   "metadata": {},
   "source": [
    "### Question 3\n",
    "##### Explore the dataypes and distribution of 'Week' and 'Block' (numerical columns), and 'Trap Type' and 'WNV Present' (categorical columns)"
   ]
  },
  {
   "cell_type": "code",
   "execution_count": 9,
   "id": "41436d4b",
   "metadata": {},
   "outputs": [
    {
     "name": "stdout",
     "output_type": "stream",
     "text": [
      " Week Info: 0        39\n",
      "1        39\n",
      "2        39\n",
      "3        39\n",
      "4        39\n",
      "         ..\n",
      "18490    36\n",
      "18491    34\n",
      "18492    30\n",
      "18493    33\n",
      "18494    33\n",
      "Name: Week, Length: 18495, dtype: int64 \n",
      "       \n",
      " Block Info: 0        100\n",
      "1         52\n",
      "2         58\n",
      "3         39\n",
      "4        131\n",
      "        ... \n",
      "18490      3\n",
      "18491     46\n",
      "18492    127\n",
      "18493     20\n",
      "18494    100\n",
      "Name: Block, Length: 18495, dtype: int64\n",
      "       \n",
      " Trap Type Info: 0          GRAVID\n",
      "1          GRAVID\n",
      "2          GRAVID\n",
      "3          GRAVID\n",
      "4          GRAVID\n",
      "           ...   \n",
      "18490      GRAVID\n",
      "18491      GRAVID\n",
      "18492      GRAVID\n",
      "18493    SENTINEL\n",
      "18494      GRAVID\n",
      "Name: Trap type, Length: 18495, dtype: object\n",
      "       \n",
      " WNV Present Info: 0        negative\n",
      "1        negative\n",
      "2        negative\n",
      "3        negative\n",
      "4        negative\n",
      "           ...   \n",
      "18490    positive\n",
      "18491    positive\n",
      "18492    positive\n",
      "18493    positive\n",
      "18494    positive\n",
      "Name: WNV Present, Length: 18495, dtype: object\n"
     ]
    }
   ],
   "source": [
    "print(f\" Week Info: {mos['Week']} \\n \\\n",
    "      \\n Block Info: {mos['Block']}\\n \\\n",
    "      \\n Trap Type Info: {mos['Trap type']}\\n \\\n",
    "      \\n WNV Present Info: {mos['WNV Present']}\")\n",
    "\n",
    "# I prefer f-strings\n",
    "# \\n to go to a new line for each column.\n"
   ]
  },
  {
   "cell_type": "markdown",
   "id": "a878cc26",
   "metadata": {},
   "source": [
    "The Week and Block columns' data types are both int64.\n",
    "The Trap type and WNV Present columns' data types are both object"
   ]
  },
  {
   "cell_type": "markdown",
   "id": "c382d8f1",
   "metadata": {},
   "source": [
    "### Question 4\n",
    "##### Clean up duplicate columns"
   ]
  },
  {
   "cell_type": "markdown",
   "id": "8eb4eed0",
   "metadata": {},
   "source": [
    "- The Week column is duplicate information since we figure out how far along in the year it is from the Date column and we can judge if two dates are close in time by using the Date column as well.\n",
    "\n",
    "\n",
    "- The Block column information is apart of the Address column.\n",
    "\n",
    "- Species and Mosquito ID are convey the same information"
   ]
  },
  {
   "cell_type": "code",
   "execution_count": 10,
   "id": "7bcaba20",
   "metadata": {},
   "outputs": [
    {
     "data": {
      "text/html": [
       "<div>\n",
       "<style scoped>\n",
       "    .dataframe tbody tr th:only-of-type {\n",
       "        vertical-align: middle;\n",
       "    }\n",
       "\n",
       "    .dataframe tbody tr th {\n",
       "        vertical-align: top;\n",
       "    }\n",
       "\n",
       "    .dataframe thead th {\n",
       "        text-align: right;\n",
       "    }\n",
       "</style>\n",
       "<table border=\"1\" class=\"dataframe\">\n",
       "  <thead>\n",
       "    <tr style=\"text-align: right;\">\n",
       "      <th></th>\n",
       "      <th>Mosquito ID</th>\n",
       "      <th>Species</th>\n",
       "    </tr>\n",
       "  </thead>\n",
       "  <tbody>\n",
       "    <tr>\n",
       "      <th>0</th>\n",
       "      <td>Res</td>\n",
       "      <td>CULEX RESTUANS</td>\n",
       "    </tr>\n",
       "    <tr>\n",
       "      <th>1</th>\n",
       "      <td>Res</td>\n",
       "      <td>CULEX RESTUANS</td>\n",
       "    </tr>\n",
       "    <tr>\n",
       "      <th>2</th>\n",
       "      <td>Res</td>\n",
       "      <td>CULEX RESTUANS</td>\n",
       "    </tr>\n",
       "    <tr>\n",
       "      <th>3</th>\n",
       "      <td>Res</td>\n",
       "      <td>CULEX RESTUANS</td>\n",
       "    </tr>\n",
       "    <tr>\n",
       "      <th>4</th>\n",
       "      <td>Res</td>\n",
       "      <td>CULEX RESTUANS</td>\n",
       "    </tr>\n",
       "    <tr>\n",
       "      <th>...</th>\n",
       "      <td>...</td>\n",
       "      <td>...</td>\n",
       "    </tr>\n",
       "    <tr>\n",
       "      <th>18490</th>\n",
       "      <td>Pip</td>\n",
       "      <td>CULEX PIPIENS</td>\n",
       "    </tr>\n",
       "    <tr>\n",
       "      <th>18491</th>\n",
       "      <td>Pip</td>\n",
       "      <td>CULEX PIPIENS</td>\n",
       "    </tr>\n",
       "    <tr>\n",
       "      <th>18492</th>\n",
       "      <td>Res</td>\n",
       "      <td>CULEX RESTUANS</td>\n",
       "    </tr>\n",
       "    <tr>\n",
       "      <th>18493</th>\n",
       "      <td>Res</td>\n",
       "      <td>CULEX RESTUANS</td>\n",
       "    </tr>\n",
       "    <tr>\n",
       "      <th>18494</th>\n",
       "      <td>Res</td>\n",
       "      <td>CULEX RESTUANS</td>\n",
       "    </tr>\n",
       "  </tbody>\n",
       "</table>\n",
       "<p>18495 rows × 2 columns</p>\n",
       "</div>"
      ],
      "text/plain": [
       "      Mosquito ID         Species\n",
       "0             Res  CULEX RESTUANS\n",
       "1             Res  CULEX RESTUANS\n",
       "2             Res  CULEX RESTUANS\n",
       "3             Res  CULEX RESTUANS\n",
       "4             Res  CULEX RESTUANS\n",
       "...           ...             ...\n",
       "18490         Pip   CULEX PIPIENS\n",
       "18491         Pip   CULEX PIPIENS\n",
       "18492         Res  CULEX RESTUANS\n",
       "18493         Res  CULEX RESTUANS\n",
       "18494         Res  CULEX RESTUANS\n",
       "\n",
       "[18495 rows x 2 columns]"
      ]
     },
     "execution_count": 10,
     "metadata": {},
     "output_type": "execute_result"
    }
   ],
   "source": [
    "#Saving Species and Mosquito ID as a key.\n",
    "\n",
    "mosid = mos.loc[:, ['Mosquito ID', 'Species']]\n",
    "\n",
    "mosid"
   ]
  },
  {
   "cell_type": "code",
   "execution_count": 11,
   "id": "fed8b58c",
   "metadata": {
    "scrolled": false
   },
   "outputs": [
    {
     "data": {
      "text/html": [
       "<div>\n",
       "<style scoped>\n",
       "    .dataframe tbody tr th:only-of-type {\n",
       "        vertical-align: middle;\n",
       "    }\n",
       "\n",
       "    .dataframe tbody tr th {\n",
       "        vertical-align: top;\n",
       "    }\n",
       "\n",
       "    .dataframe thead th {\n",
       "        text-align: right;\n",
       "    }\n",
       "</style>\n",
       "<table border=\"1\" class=\"dataframe\">\n",
       "  <thead>\n",
       "    <tr style=\"text-align: right;\">\n",
       "      <th></th>\n",
       "      <th>Year</th>\n",
       "      <th>Address Block</th>\n",
       "      <th>Trap</th>\n",
       "      <th>Trap type</th>\n",
       "      <th>Date</th>\n",
       "      <th>Mosquito number</th>\n",
       "      <th>Mosquito ID</th>\n",
       "      <th>WNV Present</th>\n",
       "      <th>Lat</th>\n",
       "      <th>Lon</th>\n",
       "    </tr>\n",
       "  </thead>\n",
       "  <tbody>\n",
       "    <tr>\n",
       "      <th>0</th>\n",
       "      <td>2019</td>\n",
       "      <td>100XX W OHARE AIRPORT</td>\n",
       "      <td>T910</td>\n",
       "      <td>GRAVID</td>\n",
       "      <td>2019-09-26 00:09:00</td>\n",
       "      <td>2</td>\n",
       "      <td>Res</td>\n",
       "      <td>negative</td>\n",
       "      <td>NaN</td>\n",
       "      <td>NaN</td>\n",
       "    </tr>\n",
       "    <tr>\n",
       "      <th>1</th>\n",
       "      <td>2019</td>\n",
       "      <td>52XX S KOLMAR AVE</td>\n",
       "      <td>T114</td>\n",
       "      <td>GRAVID</td>\n",
       "      <td>2019-09-26 00:09:00</td>\n",
       "      <td>1</td>\n",
       "      <td>Res</td>\n",
       "      <td>negative</td>\n",
       "      <td>41.798211</td>\n",
       "      <td>-87.736925</td>\n",
       "    </tr>\n",
       "    <tr>\n",
       "      <th>2</th>\n",
       "      <td>2019</td>\n",
       "      <td>58XX N WESTERN AVE</td>\n",
       "      <td>T028</td>\n",
       "      <td>GRAVID</td>\n",
       "      <td>2019-09-26 00:09:00</td>\n",
       "      <td>2</td>\n",
       "      <td>Res</td>\n",
       "      <td>negative</td>\n",
       "      <td>41.987245</td>\n",
       "      <td>-87.689417</td>\n",
       "    </tr>\n",
       "    <tr>\n",
       "      <th>3</th>\n",
       "      <td>2019</td>\n",
       "      <td>39XX N SPRINGFIELD AVE</td>\n",
       "      <td>T228</td>\n",
       "      <td>GRAVID</td>\n",
       "      <td>2019-09-26 00:09:00</td>\n",
       "      <td>1</td>\n",
       "      <td>Res</td>\n",
       "      <td>negative</td>\n",
       "      <td>41.953664</td>\n",
       "      <td>-87.724987</td>\n",
       "    </tr>\n",
       "    <tr>\n",
       "      <th>4</th>\n",
       "      <td>2019</td>\n",
       "      <td>131XX S BRANDON AVE</td>\n",
       "      <td>T209</td>\n",
       "      <td>GRAVID</td>\n",
       "      <td>2019-09-26 00:09:00</td>\n",
       "      <td>9</td>\n",
       "      <td>Res</td>\n",
       "      <td>negative</td>\n",
       "      <td>41.657069</td>\n",
       "      <td>-87.546049</td>\n",
       "    </tr>\n",
       "  </tbody>\n",
       "</table>\n",
       "</div>"
      ],
      "text/plain": [
       "   Year           Address Block  Trap Trap type                Date  \\\n",
       "0  2019   100XX W OHARE AIRPORT  T910    GRAVID 2019-09-26 00:09:00   \n",
       "1  2019       52XX S KOLMAR AVE  T114    GRAVID 2019-09-26 00:09:00   \n",
       "2  2019      58XX N WESTERN AVE  T028    GRAVID 2019-09-26 00:09:00   \n",
       "3  2019  39XX N SPRINGFIELD AVE  T228    GRAVID 2019-09-26 00:09:00   \n",
       "4  2019     131XX S BRANDON AVE  T209    GRAVID 2019-09-26 00:09:00   \n",
       "\n",
       "   Mosquito number Mosquito ID WNV Present        Lat        Lon  \n",
       "0                2         Res    negative        NaN        NaN  \n",
       "1                1         Res    negative  41.798211 -87.736925  \n",
       "2                2         Res    negative  41.987245 -87.689417  \n",
       "3                1         Res    negative  41.953664 -87.724987  \n",
       "4                9         Res    negative  41.657069 -87.546049  "
      ]
     },
     "execution_count": 11,
     "metadata": {},
     "output_type": "execute_result"
    }
   ],
   "source": [
    "mos = mos.drop(['Week', 'Block', 'Species'], axis = 1)\n",
    "mos.head()"
   ]
  },
  {
   "cell_type": "markdown",
   "id": "3c7a1a8d",
   "metadata": {},
   "source": [
    "### Question 5\n",
    "##### Clean up NaN, na, and null values"
   ]
  },
  {
   "cell_type": "code",
   "execution_count": 12,
   "id": "9ba2c902",
   "metadata": {
    "scrolled": true
   },
   "outputs": [
    {
     "data": {
      "text/plain": [
       "Year                  0\n",
       "Address Block         0\n",
       "Trap                  0\n",
       "Trap type             0\n",
       "Date                  0\n",
       "Mosquito number       0\n",
       "Mosquito ID           0\n",
       "WNV Present           0\n",
       "Lat                2924\n",
       "Lon                2924\n",
       "dtype: int64"
      ]
     },
     "execution_count": 12,
     "metadata": {},
     "output_type": "execute_result"
    }
   ],
   "source": [
    "mos.isna().sum()"
   ]
  },
  {
   "cell_type": "markdown",
   "id": "ef822ff0",
   "metadata": {},
   "source": [
    "There is missing information in the 'Lat' and 'Lon' columns. Since none of the questions being asked and answered for this report pertain to location at this time and don't need to deal with it currently."
   ]
  },
  {
   "cell_type": "code",
   "execution_count": 13,
   "id": "9e1803af",
   "metadata": {
    "scrolled": true
   },
   "outputs": [
    {
     "data": {
      "text/html": [
       "<div>\n",
       "<style scoped>\n",
       "    .dataframe tbody tr th:only-of-type {\n",
       "        vertical-align: middle;\n",
       "    }\n",
       "\n",
       "    .dataframe tbody tr th {\n",
       "        vertical-align: top;\n",
       "    }\n",
       "\n",
       "    .dataframe thead th {\n",
       "        text-align: right;\n",
       "    }\n",
       "</style>\n",
       "<table border=\"1\" class=\"dataframe\">\n",
       "  <thead>\n",
       "    <tr style=\"text-align: right;\">\n",
       "      <th></th>\n",
       "      <th>Year</th>\n",
       "      <th>Address Block</th>\n",
       "      <th>Trap</th>\n",
       "      <th>Trap type</th>\n",
       "      <th>Date</th>\n",
       "      <th>Mosquito number</th>\n",
       "      <th>Mosquito ID</th>\n",
       "      <th>WNV Present</th>\n",
       "      <th>Lat</th>\n",
       "      <th>Lon</th>\n",
       "    </tr>\n",
       "  </thead>\n",
       "  <tbody>\n",
       "    <tr>\n",
       "      <th>0</th>\n",
       "      <td>2019</td>\n",
       "      <td>100XX W OHARE AIRPORT</td>\n",
       "      <td>T910</td>\n",
       "      <td>GRAVID</td>\n",
       "      <td>2019-09-26 00:09:00</td>\n",
       "      <td>2</td>\n",
       "      <td>Res</td>\n",
       "      <td>negative</td>\n",
       "      <td>0.000000</td>\n",
       "      <td>0.000000</td>\n",
       "    </tr>\n",
       "    <tr>\n",
       "      <th>1</th>\n",
       "      <td>2019</td>\n",
       "      <td>52XX S KOLMAR AVE</td>\n",
       "      <td>T114</td>\n",
       "      <td>GRAVID</td>\n",
       "      <td>2019-09-26 00:09:00</td>\n",
       "      <td>1</td>\n",
       "      <td>Res</td>\n",
       "      <td>negative</td>\n",
       "      <td>41.798211</td>\n",
       "      <td>-87.736925</td>\n",
       "    </tr>\n",
       "    <tr>\n",
       "      <th>2</th>\n",
       "      <td>2019</td>\n",
       "      <td>58XX N WESTERN AVE</td>\n",
       "      <td>T028</td>\n",
       "      <td>GRAVID</td>\n",
       "      <td>2019-09-26 00:09:00</td>\n",
       "      <td>2</td>\n",
       "      <td>Res</td>\n",
       "      <td>negative</td>\n",
       "      <td>41.987245</td>\n",
       "      <td>-87.689417</td>\n",
       "    </tr>\n",
       "    <tr>\n",
       "      <th>3</th>\n",
       "      <td>2019</td>\n",
       "      <td>39XX N SPRINGFIELD AVE</td>\n",
       "      <td>T228</td>\n",
       "      <td>GRAVID</td>\n",
       "      <td>2019-09-26 00:09:00</td>\n",
       "      <td>1</td>\n",
       "      <td>Res</td>\n",
       "      <td>negative</td>\n",
       "      <td>41.953664</td>\n",
       "      <td>-87.724987</td>\n",
       "    </tr>\n",
       "    <tr>\n",
       "      <th>4</th>\n",
       "      <td>2019</td>\n",
       "      <td>131XX S BRANDON AVE</td>\n",
       "      <td>T209</td>\n",
       "      <td>GRAVID</td>\n",
       "      <td>2019-09-26 00:09:00</td>\n",
       "      <td>9</td>\n",
       "      <td>Res</td>\n",
       "      <td>negative</td>\n",
       "      <td>41.657069</td>\n",
       "      <td>-87.546049</td>\n",
       "    </tr>\n",
       "    <tr>\n",
       "      <th>...</th>\n",
       "      <td>...</td>\n",
       "      <td>...</td>\n",
       "      <td>...</td>\n",
       "      <td>...</td>\n",
       "      <td>...</td>\n",
       "      <td>...</td>\n",
       "      <td>...</td>\n",
       "      <td>...</td>\n",
       "      <td>...</td>\n",
       "      <td>...</td>\n",
       "    </tr>\n",
       "    <tr>\n",
       "      <th>18490</th>\n",
       "      <td>2016</td>\n",
       "      <td>3XX W 18TH ST</td>\n",
       "      <td>T043</td>\n",
       "      <td>GRAVID</td>\n",
       "      <td>2016-09-09 00:09:00</td>\n",
       "      <td>4</td>\n",
       "      <td>Pip</td>\n",
       "      <td>positive</td>\n",
       "      <td>41.857843</td>\n",
       "      <td>-87.635858</td>\n",
       "    </tr>\n",
       "    <tr>\n",
       "      <th>18491</th>\n",
       "      <td>2007</td>\n",
       "      <td>46XX N MILWAUKEE AVE</td>\n",
       "      <td>T003</td>\n",
       "      <td>GRAVID</td>\n",
       "      <td>2007-08-24 00:08:00</td>\n",
       "      <td>19</td>\n",
       "      <td>Pip</td>\n",
       "      <td>positive</td>\n",
       "      <td>41.965376</td>\n",
       "      <td>-87.758403</td>\n",
       "    </tr>\n",
       "    <tr>\n",
       "      <th>18492</th>\n",
       "      <td>2016</td>\n",
       "      <td>127XX S DOTY AVE</td>\n",
       "      <td>T115</td>\n",
       "      <td>GRAVID</td>\n",
       "      <td>2016-07-27 00:07:00</td>\n",
       "      <td>34</td>\n",
       "      <td>Res</td>\n",
       "      <td>positive</td>\n",
       "      <td>41.662395</td>\n",
       "      <td>-87.590176</td>\n",
       "    </tr>\n",
       "    <tr>\n",
       "      <th>18493</th>\n",
       "      <td>2017</td>\n",
       "      <td>20XX N DOMINICK ST</td>\n",
       "      <td>T240B</td>\n",
       "      <td>SENTINEL</td>\n",
       "      <td>2017-08-17 00:08:00</td>\n",
       "      <td>50</td>\n",
       "      <td>Res</td>\n",
       "      <td>positive</td>\n",
       "      <td>41.919197</td>\n",
       "      <td>-87.664758</td>\n",
       "    </tr>\n",
       "    <tr>\n",
       "      <th>18494</th>\n",
       "      <td>2015</td>\n",
       "      <td>100XX W OHARE AIRPORT</td>\n",
       "      <td>T902</td>\n",
       "      <td>GRAVID</td>\n",
       "      <td>2015-08-20 00:08:00</td>\n",
       "      <td>6</td>\n",
       "      <td>Res</td>\n",
       "      <td>positive</td>\n",
       "      <td>0.000000</td>\n",
       "      <td>0.000000</td>\n",
       "    </tr>\n",
       "  </tbody>\n",
       "</table>\n",
       "<p>18495 rows × 10 columns</p>\n",
       "</div>"
      ],
      "text/plain": [
       "       Year           Address Block   Trap Trap type                Date  \\\n",
       "0      2019   100XX W OHARE AIRPORT   T910    GRAVID 2019-09-26 00:09:00   \n",
       "1      2019       52XX S KOLMAR AVE   T114    GRAVID 2019-09-26 00:09:00   \n",
       "2      2019      58XX N WESTERN AVE   T028    GRAVID 2019-09-26 00:09:00   \n",
       "3      2019  39XX N SPRINGFIELD AVE   T228    GRAVID 2019-09-26 00:09:00   \n",
       "4      2019     131XX S BRANDON AVE   T209    GRAVID 2019-09-26 00:09:00   \n",
       "...     ...                     ...    ...       ...                 ...   \n",
       "18490  2016           3XX W 18TH ST   T043    GRAVID 2016-09-09 00:09:00   \n",
       "18491  2007    46XX N MILWAUKEE AVE   T003    GRAVID 2007-08-24 00:08:00   \n",
       "18492  2016        127XX S DOTY AVE   T115    GRAVID 2016-07-27 00:07:00   \n",
       "18493  2017      20XX N DOMINICK ST  T240B  SENTINEL 2017-08-17 00:08:00   \n",
       "18494  2015   100XX W OHARE AIRPORT   T902    GRAVID 2015-08-20 00:08:00   \n",
       "\n",
       "       Mosquito number Mosquito ID WNV Present        Lat        Lon  \n",
       "0                    2         Res    negative   0.000000   0.000000  \n",
       "1                    1         Res    negative  41.798211 -87.736925  \n",
       "2                    2         Res    negative  41.987245 -87.689417  \n",
       "3                    1         Res    negative  41.953664 -87.724987  \n",
       "4                    9         Res    negative  41.657069 -87.546049  \n",
       "...                ...         ...         ...        ...        ...  \n",
       "18490                4         Pip    positive  41.857843 -87.635858  \n",
       "18491               19         Pip    positive  41.965376 -87.758403  \n",
       "18492               34         Res    positive  41.662395 -87.590176  \n",
       "18493               50         Res    positive  41.919197 -87.664758  \n",
       "18494                6         Res    positive   0.000000   0.000000  \n",
       "\n",
       "[18495 rows x 10 columns]"
      ]
     },
     "execution_count": 13,
     "metadata": {},
     "output_type": "execute_result"
    }
   ],
   "source": [
    "mos.fillna(0)"
   ]
  },
  {
   "cell_type": "markdown",
   "id": "3026ba1c",
   "metadata": {},
   "source": [
    "## Part 2"
   ]
  },
  {
   "cell_type": "markdown",
   "id": "02ce1a6f",
   "metadata": {},
   "source": [
    "### Question 1\n",
    "##### Create a visualization to explore the relationship between mosquito  numbers and date"
   ]
  },
  {
   "cell_type": "markdown",
   "id": "cb39315d",
   "metadata": {},
   "source": [
    "Since this report's goal is to study the spread and current state of the West Nile Virus, we will look at the date by the year so that we can then further explore the prevalence of WNV over time."
   ]
  },
  {
   "cell_type": "code",
   "execution_count": 14,
   "id": "4d998160",
   "metadata": {},
   "outputs": [
    {
     "name": "stdout",
     "output_type": "stream",
     "text": [
      "2007    2141\n",
      "2014    2000\n",
      "2016    1844\n",
      "2013    1624\n",
      "2010    1397\n",
      "2012    1392\n",
      "2018    1361\n",
      "2019    1209\n",
      "2015    1178\n",
      "2009    1135\n",
      "2011    1120\n",
      "2017    1110\n",
      "2008     984\n",
      "Name: Year, dtype: int64 \n",
      " \n",
      "        value_counts().values: [2141 2000 1844 1624 1397 1392 1361 1209 1178 1135 1120 1110  984] \n",
      " \n",
      "        value_counts().index: Int64Index([2007, 2014, 2016, 2013, 2010, 2012, 2018, 2019, 2015, 2009, 2011,\n",
      "            2017, 2008],\n",
      "           dtype='int64')\n"
     ]
    }
   ],
   "source": [
    "mos['Year'] = mos['Date'].dt.year\n",
    "\n",
    "print(f\"{mos['Year'].value_counts()} \\n \\n\\\n",
    "        value_counts().values: {mos['Year'].value_counts().values} \\n \\n\\\n",
    "        value_counts().index: {mos['Year'].value_counts().index}\")"
   ]
  },
  {
   "cell_type": "code",
   "execution_count": 15,
   "id": "efced9b6",
   "metadata": {},
   "outputs": [
    {
     "data": {
      "image/png": "[encoded data removed]",
      "text/plain": [
       "<Figure size 1080x360 with 2 Axes>"
      ]
     },
     "metadata": {
      "needs_background": "light"
     },
     "output_type": "display_data"
    }
   ],
   "source": [
    "plt.subplots(1, 2, figsize = [15, 5])\n",
    "\n",
    "plt.subplot(1, 2, 1)\n",
    "plt.bar(mos['Year'].value_counts().index, \n",
    "        mos['Year'].value_counts().values)\n",
    "plt.title('Mosquito Number VS Year')\n",
    "plt.xlabel(\"Year\")\n",
    "plt.ylabel(\"Mosquite Numbers\")\n",
    "\n",
    "plt.subplot(1, 2, 2)\n",
    "plt.scatter(mos['Year'].value_counts().index, \n",
    "           mos['Year'].value_counts().values)\n",
    "plt.title(\"Mosquito Number by Month\")\n",
    "plt.xlabel(\"Year\")\n",
    "plt.ylabel(\"Number of Mosquitos\")\n",
    "\n",
    "plt.tight_layout()\n",
    "plt.show()"
   ]
  },
  {
   "cell_type": "markdown",
   "id": "0397ba13",
   "metadata": {},
   "source": [
    "## Part 3"
   ]
  },
  {
   "cell_type": "markdown",
   "id": "5ee6fe93",
   "metadata": {},
   "source": [
    "### Question 1\n",
    "##### Explore the relationship between mosquito species and West Nice Virus presence"
   ]
  },
  {
   "cell_type": "markdown",
   "id": "5860dd50",
   "metadata": {},
   "source": [
    "First I'll make a dataframe to isolate information and to create aliases for longer chunks of code:\n",
    "\n",
    "1. Check the `value_count()` for 'WNV Present' and 'Mosquito ID'. Check for missing data\n",
    "2. Create a dataframe shell\n",
    "3. Write code for isolating rows based on 'Mosquito ID' and 'WNV Present'\n",
    "4. Write code for counting number of rows based on 'Mosquito ID' and 'WNV PResent'\n",
    "5. Write a for-loop to funnel counts into proper cells"
   ]
  },
  {
   "cell_type": "code",
   "execution_count": 16,
   "id": "6e1c4260",
   "metadata": {
    "scrolled": true
   },
   "outputs": [
    {
     "name": "stdout",
     "output_type": "stream",
     "text": [
      "18495 \n",
      "\n",
      "18495 \n",
      "\n",
      "18495 \n",
      "\n"
     ]
    }
   ],
   "source": [
    "#Step 1.1 Check the `value_count()` for 'WNV Present' and 'Mosquito ID'. Check for missing data.\n",
    "\n",
    "print(mos.shape[0], '\\n')\n",
    "\n",
    "print(mos['WNV Present'].value_counts().sum(), '\\n')\n",
    "\n",
    "print(mos['Mosquito ID'].value_counts().sum(), '\\n')"
   ]
  },
  {
   "cell_type": "code",
   "execution_count": 17,
   "id": "94de24e1",
   "metadata": {
    "scrolled": true
   },
   "outputs": [
    {
     "name": "stdout",
     "output_type": "stream",
     "text": [
      "          Res  Pip  Ter  Sal\n",
      "negative  NaN  NaN  NaN  NaN\n",
      "positive  NaN  NaN  NaN  NaN\n"
     ]
    }
   ],
   "source": [
    "#Step 1.2 Create a dataframe shell\n",
    "\n",
    "wnvdf = pd.DataFrame(index = mos['WNV Present'].value_counts().index, #rows are the WNV result\n",
    "                     columns = mos['Mosquito ID'].value_counts().index) #columns are the species\n",
    "\n",
    "print(wnvdf)"
   ]
  },
  {
   "cell_type": "code",
   "execution_count": 18,
   "id": "49b94a2b",
   "metadata": {
    "scrolled": true
   },
   "outputs": [
    {
     "data": {
      "text/plain": [
       "9309"
      ]
     },
     "execution_count": 18,
     "metadata": {},
     "output_type": "execute_result"
    }
   ],
   "source": [
    "#Step 1.3 Write code for isolating rows based on 'Mosquito ID' and 'WNV Present'\n",
    "#Step 1.4 Write code for counting number of rows based on 'Mosquito ID' and 'WNV PResent'\n",
    "\n",
    "wnvRN = mos[\n",
    "    (mos['Mosquito ID'] == mos['Mosquito ID'].value_counts().index[0]) & \n",
    "                #calling the rows with the same value as index[0] which is 'Res'\n",
    "    (mos['WNV Present'] == mos['WNV Present'].value_counts().index[0])\n",
    "                #calling the rows with the same value as index[0] which is 'negative'\n",
    "\n",
    "].shape[0] #counting the number of rows that meet the above condition\n",
    "\n",
    "wnvRN"
   ]
  },
  {
   "cell_type": "code",
   "execution_count": 19,
   "id": "5535b926",
   "metadata": {
    "scrolled": true
   },
   "outputs": [
    {
     "name": "stdout",
     "output_type": "stream",
     "text": [
      "           Res   Pip  Ter  Sal\n",
      "negative  9309  4074  903  215\n",
      "positive  2557  1412   14   11\n"
     ]
    }
   ],
   "source": [
    "#Step 1.5 Write a for-loop to funnel counts into proper cells\n",
    "\n",
    "for x in range(len(mos['Mosquito ID'].value_counts().index)):   # loop for each Mosquito ID/column in wnvdf\n",
    "    \n",
    "    if x == mos['Mosquito ID'].index[x]: # funnelling the loop into the proper Mosquito ID column\n",
    "        \n",
    "        for n in range(len(mos['WNV Present'].value_counts().index)): # loop for each WNV Presence/row in wnvdf\n",
    "            \n",
    "            if n == mos['WNV Present'].index[n]: # funnelling the loop into the proper WNV row.\n",
    "#The lines of code above ultimately funnel into a cell that has the same indices as the x and n from the for-loops \n",
    "                \n",
    "                count = mos[   # counting the number of rows funnelling into a cell after going throug the loops\n",
    "                    (mos['Mosquito ID'] == mos['Mosquito ID'].value_counts().index[x]) & \n",
    "                    (mos['WNV Present'] == mos['WNV Present'].value_counts().index[n])].shape[0]\n",
    "                \n",
    "                wnvdf.loc[mos['WNV Present'].value_counts().index[n], \n",
    "                             mos['Mosquito ID'].value_counts().index[x]] = count \n",
    "                    #defining a cell's value as the count funnelled into it\n",
    "                    \n",
    "print(wnvdf)\n",
    "        \n"
   ]
  },
  {
   "cell_type": "markdown",
   "id": "177e4e44",
   "metadata": {},
   "source": [
    "I will use a double bar graph to compare the prevelance of the West Nile Virus between species.\n",
    "\n",
    "https://matplotlib.org/stable/gallery/lines_bars_and_markers/barchart.html#sphx-glr-gallery-lines-bars-and-markers-barchart-py"
   ]
  },
  {
   "cell_type": "code",
   "execution_count": 20,
   "id": "1ad73d6c",
   "metadata": {
    "scrolled": false
   },
   "outputs": [
    {
     "data": {
      "image/png": "[encoded data removed]",
      "text/plain": [
       "<Figure size 432x288 with 1 Axes>"
      ]
     },
     "metadata": {
      "needs_background": "light"
     },
     "output_type": "display_data"
    }
   ],
   "source": [
    "labels = mos['Mosquito ID'].value_counts().index\n",
    "neg_counts = wnvdf.iloc[0].values\n",
    "pos_counts = wnvdf.iloc[1].values\n",
    "\n",
    "x = np.arange(len(labels))  \n",
    "width = 0.35  # the width of the bars\n",
    "\n",
    "fig, ax = plt.subplots()\n",
    "neg = ax.bar(x - width/2, neg_counts, width, label='Negative result', color = 'red')\n",
    "pos = ax.bar(x + width/2, pos_counts, width, label='Positive result', color = 'darkblue')\n",
    "\n",
    "# Add some text for labels, title and custom x-axis tick labels, etc.\n",
    "ax.set_ylabel('Count')\n",
    "ax.set_title('WNV test results by Species')\n",
    "ax.set_xticks(x, labels)\n",
    "ax.legend()\n",
    "\n",
    "ax.bar_label(neg, padding = 0)\n",
    "ax.bar_label(pos, padding = 0)\n",
    "\n",
    "fig.tight_layout()\n",
    "\n",
    "plt.show()\n"
   ]
  },
  {
   "cell_type": "markdown",
   "id": "a320ef70",
   "metadata": {},
   "source": [
    "### Question 2\n",
    "##### Explore the relationship between the number of mosquitos caughts and trap type"
   ]
  },
  {
   "cell_type": "markdown",
   "id": "a426e75e",
   "metadata": {},
   "source": [
    "This exploration is so tht we can make data-driven judgements on which traps to invest our resources into.\n",
    "\n",
    "First I'll make a dataframe with the Mosquito number sums by Trap type\n",
    "1. Check the `value_count()` for 'Trap' and 'Mosquito number'. Check for missing data.\n",
    "2. Write code for Mosquito number totals by trap type\n",
    "3. Put data from step 3 into a dataframe and check that data is correct\n",
    "\n",
    "Second, I will use a horizontal bar graph to visualize the number of mosquitos caught by each trap type"
   ]
  },
  {
   "cell_type": "code",
   "execution_count": 21,
   "id": "d48db0ca",
   "metadata": {
    "scrolled": false
   },
   "outputs": [
    {
     "name": "stdout",
     "output_type": "stream",
     "text": [
      "18495 \n",
      "\n",
      "18495 \n",
      "\n",
      "18495 \n",
      "\n"
     ]
    }
   ],
   "source": [
    "#Step 1.1 Check the `value_count()` for 'WNV Present' and 'Mosquito ID'. Check for missing data.\n",
    "\n",
    "print(mos.shape[0], '\\n')\n",
    "\n",
    "print(mos['Mosquito number'].value_counts().sum(), '\\n')\n",
    "\n",
    "print(mos['Trap'].value_counts().sum(), '\\n')"
   ]
  },
  {
   "cell_type": "code",
   "execution_count": 22,
   "id": "d8e5c661",
   "metadata": {},
   "outputs": [],
   "source": [
    "#Step 1.2 Write code to group Trap types\n",
    "\n",
    "TrapType = mos['Trap'].value_counts().index.sort_values()"
   ]
  },
  {
   "cell_type": "code",
   "execution_count": 23,
   "id": "94d550db",
   "metadata": {},
   "outputs": [],
   "source": [
    "#Step 1.3 Write code for sum of 'Mosquito number' by 'Trap'\n",
    "\n",
    "MosNumb = mos['Mosquito number'].groupby(mos['Trap'].sort_values()).sum()"
   ]
  },
  {
   "cell_type": "code",
   "execution_count": 24,
   "id": "8203b62b",
   "metadata": {},
   "outputs": [
    {
     "name": "stdout",
     "output_type": "stream",
     "text": [
      "True \n",
      "\n",
      "\n",
      "[ True  True  True  True  True  True  True  True  True  True  True  True\n",
      "  True  True  True  True  True  True  True  True  True  True  True  True\n",
      "  True  True  True  True  True  True  True  True  True  True  True  True\n",
      "  True  True  True  True  True  True  True  True  True  True  True  True\n",
      "  True  True  True  True  True  True  True  True  True  True  True  True\n",
      "  True  True  True  True  True  True  True  True  True  True  True  True\n",
      "  True  True  True  True  True  True  True  True  True  True  True  True\n",
      "  True  True  True  True  True  True  True  True  True  True  True  True\n",
      "  True  True  True  True  True  True  True  True  True  True  True  True\n",
      "  True  True  True  True  True  True  True  True  True  True  True  True\n",
      "  True  True  True  True  True  True  True  True  True  True  True  True\n",
      "  True  True  True  True  True  True  True  True  True  True  True  True\n",
      "  True  True  True  True  True  True  True  True  True  True  True  True\n",
      "  True  True  True  True  True  True  True  True  True  True  True  True\n",
      "  True  True  True  True  True  True  True  True  True  True  True  True\n",
      "  True  True  True  True  True  True  True  True  True  True]\n"
     ]
    }
   ],
   "source": [
    "#Step 1.4 \n",
    "print(mos['Mosquito number'].sum() == MosNumb.sum(), '\\n' '\\n') #checking if code is correct\n",
    "\n",
    "print(TrapType == MosNumb.index) #Check that index of TrapType and MosNumb are equivalent"
   ]
  },
  {
   "cell_type": "code",
   "execution_count": 25,
   "id": "0137f953",
   "metadata": {},
   "outputs": [
    {
     "data": {
      "text/html": [
       "<div>\n",
       "<style scoped>\n",
       "    .dataframe tbody tr th:only-of-type {\n",
       "        vertical-align: middle;\n",
       "    }\n",
       "\n",
       "    .dataframe tbody tr th {\n",
       "        vertical-align: top;\n",
       "    }\n",
       "\n",
       "    .dataframe thead th {\n",
       "        text-align: right;\n",
       "    }\n",
       "</style>\n",
       "<table border=\"1\" class=\"dataframe\">\n",
       "  <thead>\n",
       "    <tr style=\"text-align: right;\">\n",
       "      <th></th>\n",
       "      <th>Mosquito number</th>\n",
       "    </tr>\n",
       "  </thead>\n",
       "  <tbody>\n",
       "    <tr>\n",
       "      <th>count</th>\n",
       "      <td>190.000000</td>\n",
       "    </tr>\n",
       "    <tr>\n",
       "      <th>mean</th>\n",
       "      <td>1059.073684</td>\n",
       "    </tr>\n",
       "    <tr>\n",
       "      <th>std</th>\n",
       "      <td>1494.616436</td>\n",
       "    </tr>\n",
       "    <tr>\n",
       "      <th>min</th>\n",
       "      <td>1.000000</td>\n",
       "    </tr>\n",
       "    <tr>\n",
       "      <th>25%</th>\n",
       "      <td>42.250000</td>\n",
       "    </tr>\n",
       "    <tr>\n",
       "      <th>50%</th>\n",
       "      <td>411.000000</td>\n",
       "    </tr>\n",
       "    <tr>\n",
       "      <th>75%</th>\n",
       "      <td>1538.000000</td>\n",
       "    </tr>\n",
       "    <tr>\n",
       "      <th>max</th>\n",
       "      <td>9285.000000</td>\n",
       "    </tr>\n",
       "  </tbody>\n",
       "</table>\n",
       "</div>"
      ],
      "text/plain": [
       "       Mosquito number\n",
       "count       190.000000\n",
       "mean       1059.073684\n",
       "std        1494.616436\n",
       "min           1.000000\n",
       "25%          42.250000\n",
       "50%         411.000000\n",
       "75%        1538.000000\n",
       "max        9285.000000"
      ]
     },
     "execution_count": 25,
     "metadata": {},
     "output_type": "execute_result"
    }
   ],
   "source": [
    "#Step 1.5 Create dataframe\n",
    "trap_df = pd.DataFrame({'Trap': TrapType, \n",
    "                        'Mosquito number': MosNumb\n",
    "                        }) #Created a data frame with two columns for easier calling and passing\n",
    "\n",
    "trap_df = trap_df.sort_values(by = 'Mosquito number', ascending = True)\n",
    "trap_df.describe()"
   ]
  },
  {
   "cell_type": "markdown",
   "id": "f4b045b8",
   "metadata": {},
   "source": [
    "Next, we'll use the median as the threshold to drop the bottom half of lower performing traps. Since they caught few mosquitos, further exploration can be done into why they caught so few. We want to see with trap types are best so tht we can better invest our money in traps that trap."
   ]
  },
  {
   "cell_type": "code",
   "execution_count": 26,
   "id": "f2e357b2",
   "metadata": {
    "scrolled": true
   },
   "outputs": [
    {
     "data": {
      "text/html": [
       "<div>\n",
       "<style scoped>\n",
       "    .dataframe tbody tr th:only-of-type {\n",
       "        vertical-align: middle;\n",
       "    }\n",
       "\n",
       "    .dataframe tbody tr th {\n",
       "        vertical-align: top;\n",
       "    }\n",
       "\n",
       "    .dataframe thead th {\n",
       "        text-align: right;\n",
       "    }\n",
       "</style>\n",
       "<table border=\"1\" class=\"dataframe\">\n",
       "  <thead>\n",
       "    <tr style=\"text-align: right;\">\n",
       "      <th></th>\n",
       "      <th>Mosquito number</th>\n",
       "    </tr>\n",
       "  </thead>\n",
       "  <tbody>\n",
       "    <tr>\n",
       "      <th>count</th>\n",
       "      <td>95.000000</td>\n",
       "    </tr>\n",
       "    <tr>\n",
       "      <th>mean</th>\n",
       "      <td>2031.105263</td>\n",
       "    </tr>\n",
       "    <tr>\n",
       "      <th>std</th>\n",
       "      <td>1603.279422</td>\n",
       "    </tr>\n",
       "    <tr>\n",
       "      <th>min</th>\n",
       "      <td>425.000000</td>\n",
       "    </tr>\n",
       "    <tr>\n",
       "      <th>25%</th>\n",
       "      <td>855.000000</td>\n",
       "    </tr>\n",
       "    <tr>\n",
       "      <th>50%</th>\n",
       "      <td>1546.000000</td>\n",
       "    </tr>\n",
       "    <tr>\n",
       "      <th>75%</th>\n",
       "      <td>2858.000000</td>\n",
       "    </tr>\n",
       "    <tr>\n",
       "      <th>max</th>\n",
       "      <td>9285.000000</td>\n",
       "    </tr>\n",
       "  </tbody>\n",
       "</table>\n",
       "</div>"
      ],
      "text/plain": [
       "       Mosquito number\n",
       "count        95.000000\n",
       "mean       2031.105263\n",
       "std        1603.279422\n",
       "min         425.000000\n",
       "25%         855.000000\n",
       "50%        1546.000000\n",
       "75%        2858.000000\n",
       "max        9285.000000"
      ]
     },
     "execution_count": 26,
     "metadata": {},
     "output_type": "execute_result"
    }
   ],
   "source": [
    "trap_df[trap_df['Mosquito number'] <= 411].index.shape\n",
    "# 17 trap types that caught ten or less mosquitos\n",
    "\n",
    "trap_df = trap_df.drop(trap_df[trap_df['Mosquito number'] <= 411].index)\n",
    "trap_df.describe()\n",
    "#new dataframe showing only the traps that caught more than 411 mosquitos"
   ]
  },
  {
   "cell_type": "markdown",
   "id": "14cdc486",
   "metadata": {},
   "source": [
    "I am using a horizontal bar graph for two reasons:\n",
    "1. Horizontal due to the sheer number of trap types.\n",
    "2. Bar graph becasue we are visualizing a single variable (trap type) and the number of observations (mosquitos caught)"
   ]
  },
  {
   "cell_type": "code",
   "execution_count": 27,
   "id": "39c7d142",
   "metadata": {},
   "outputs": [
    {
     "data": {
      "text/plain": [
       "Trap\n",
       "T924    T924\n",
       "T017    T017\n",
       "T200    T200\n",
       "T014    T014\n",
       "T049    T049\n",
       "        ... \n",
       "T912    T912\n",
       "T138    T138\n",
       "T913    T913\n",
       "T008    T008\n",
       "T002    T002\n",
       "Name: Trap, Length: 95, dtype: object"
      ]
     },
     "execution_count": 27,
     "metadata": {},
     "output_type": "execute_result"
    }
   ],
   "source": [
    "width = trap_df['Mosquito number']\n",
    "MosMedian = trap_df[(trap_df['Mosquito number'] >= width.median()) & (trap_df['Mosquito number'] <= width.median())]\n",
    "MosMedian\n",
    "trap_df['Trap']"
   ]
  },
  {
   "cell_type": "code",
   "execution_count": 28,
   "id": "b2684500",
   "metadata": {
    "scrolled": true
   },
   "outputs": [
    {
     "data": {
      "image/png": "[encoded data removed]",
      "text/plain": [
       "<Figure size 3600x7200 with 1 Axes>"
      ]
     },
     "metadata": {
      "needs_background": "light"
     },
     "output_type": "display_data"
    }
   ],
   "source": [
    "bars = trap_df['Trap']\n",
    "y_pos = [5*i for i in range(len(bars))]\n",
    "MosMedian = trap_df[(trap_df['Mosquito number'] >= width.median()) & (trap_df['Mosquito number'] <= width.median())]\n",
    "\n",
    "plt.figure(figsize = (50, 100))\n",
    "\n",
    "trapGraph = plt.barh(y_pos, width, height = 3, color = ['darkblue' if z == trap_df['Mosquito number'].max() else 'lightblue' for z in width])\n",
    "\n",
    "MosMedian = plt.hlines(MosMedian.index, 0, MosMedian['Mosquito number'], color = 'red')\n",
    "\n",
    "plt.yticks(y_pos, bars)\n",
    "plt.xlabel(\"Number of Mosquitos caught\")\n",
    "plt.ylabel(\"Mosquito Trap Type\")\n",
    "plt.title(\"Top 20 Traps that Caught the Most Mosquitos\")\n",
    "plt.bar_label(trapGraph, padding = 1)\n",
    "\n",
    "plt.show()"
   ]
  },
  {
   "cell_type": "markdown",
   "id": "e191cde4",
   "metadata": {},
   "source": [
    "### Question 3\n",
    "\n",
    "##### I want to see what WNV Prevelance looks like by location. Where are the mosquitos with WNV Prevelance? Other than being near water, are there any comminites in Chicago being effected by WNV more that others?"
   ]
  },
  {
   "cell_type": "markdown",
   "id": "2dc22151",
   "metadata": {},
   "source": [
    "Visualization of WNV positive mosquitos over time"
   ]
  },
  {
   "cell_type": "code",
   "execution_count": 29,
   "id": "a7636a74",
   "metadata": {},
   "outputs": [
    {
     "data": {
      "text/html": [
       "<div>\n",
       "<style scoped>\n",
       "    .dataframe tbody tr th:only-of-type {\n",
       "        vertical-align: middle;\n",
       "    }\n",
       "\n",
       "    .dataframe tbody tr th {\n",
       "        vertical-align: top;\n",
       "    }\n",
       "\n",
       "    .dataframe thead th {\n",
       "        text-align: right;\n",
       "    }\n",
       "</style>\n",
       "<table border=\"1\" class=\"dataframe\">\n",
       "  <thead>\n",
       "    <tr style=\"text-align: right;\">\n",
       "      <th></th>\n",
       "      <th>Year</th>\n",
       "      <th>Mosquito number</th>\n",
       "    </tr>\n",
       "    <tr>\n",
       "      <th>Year</th>\n",
       "      <th></th>\n",
       "      <th></th>\n",
       "    </tr>\n",
       "  </thead>\n",
       "  <tbody>\n",
       "    <tr>\n",
       "      <th>2007</th>\n",
       "      <td>2007</td>\n",
       "      <td>11869.0</td>\n",
       "    </tr>\n",
       "    <tr>\n",
       "      <th>2008</th>\n",
       "      <td>2008</td>\n",
       "      <td>173.0</td>\n",
       "    </tr>\n",
       "    <tr>\n",
       "      <th>2009</th>\n",
       "      <td>2009</td>\n",
       "      <td>134.0</td>\n",
       "    </tr>\n",
       "    <tr>\n",
       "      <th>2010</th>\n",
       "      <td>2010</td>\n",
       "      <td>1087.0</td>\n",
       "    </tr>\n",
       "    <tr>\n",
       "      <th>2011</th>\n",
       "      <td>2011</td>\n",
       "      <td>757.0</td>\n",
       "    </tr>\n",
       "    <tr>\n",
       "      <th>2012</th>\n",
       "      <td>2012</td>\n",
       "      <td>5517.0</td>\n",
       "    </tr>\n",
       "    <tr>\n",
       "      <th>2013</th>\n",
       "      <td>2013</td>\n",
       "      <td>10865.0</td>\n",
       "    </tr>\n",
       "    <tr>\n",
       "      <th>2014</th>\n",
       "      <td>2014</td>\n",
       "      <td>10782.0</td>\n",
       "    </tr>\n",
       "    <tr>\n",
       "      <th>2015</th>\n",
       "      <td>2015</td>\n",
       "      <td>3461.0</td>\n",
       "    </tr>\n",
       "    <tr>\n",
       "      <th>2016</th>\n",
       "      <td>2016</td>\n",
       "      <td>25929.0</td>\n",
       "    </tr>\n",
       "    <tr>\n",
       "      <th>2017</th>\n",
       "      <td>2017</td>\n",
       "      <td>5576.0</td>\n",
       "    </tr>\n",
       "    <tr>\n",
       "      <th>2018</th>\n",
       "      <td>2018</td>\n",
       "      <td>8111.0</td>\n",
       "    </tr>\n",
       "    <tr>\n",
       "      <th>2019</th>\n",
       "      <td>2019</td>\n",
       "      <td>1036.0</td>\n",
       "    </tr>\n",
       "  </tbody>\n",
       "</table>\n",
       "</div>"
      ],
      "text/plain": [
       "      Year  Mosquito number\n",
       "Year                       \n",
       "2007  2007          11869.0\n",
       "2008  2008            173.0\n",
       "2009  2009            134.0\n",
       "2010  2010           1087.0\n",
       "2011  2011            757.0\n",
       "2012  2012           5517.0\n",
       "2013  2013          10865.0\n",
       "2014  2014          10782.0\n",
       "2015  2015           3461.0\n",
       "2016  2016          25929.0\n",
       "2017  2017           5576.0\n",
       "2018  2018           8111.0\n",
       "2019  2019           1036.0"
      ]
     },
     "execution_count": 29,
     "metadata": {},
     "output_type": "execute_result"
    }
   ],
   "source": [
    "wnvPos_df = pd.DataFrame({'Year': mos['Year'].value_counts().index.sort_values(), #create a column for the year and a column for the number of mosquitos with WNV\n",
    "                           'Mosquito number': mos['Mosquito number'].where(mos['WNV Present'] == 'positive').groupby(mos['Year']).sum()})\n",
    "wnvPos_df"
   ]
  },
  {
   "cell_type": "code",
   "execution_count": 30,
   "id": "5901ddb0",
   "metadata": {},
   "outputs": [
    {
     "data": {
      "image/png": "[encoded data removed]",
      "text/plain": [
       "<Figure size 576x360 with 1 Axes>"
      ]
     },
     "metadata": {
      "needs_background": "light"
     },
     "output_type": "display_data"
    }
   ],
   "source": [
    "# create time line\n",
    "plt.figure(figsize = [8, 5], tight_layout = True) #set size and tight_layout \n",
    "\n",
    "plt.plot(wnvPos_df['Year'].values, #x-axis is the year\n",
    "         wnvPos_df['Mosquito number'].values, #y-axis is the number of WNV positive mosquitos\n",
    "         color = 'darkgreen', \n",
    "         linewidth = 5\n",
    "        )\n",
    "\n",
    "plt.title('Number of Mosquitos with WMV in Chicago from 2007 - 2019')\n",
    "plt.xlabel('Year')\n",
    "plt.ylabel('Number of Mosquitos Caught with WNV')\n",
    "plt.xticks(wnvPos_df['Year'])\n",
    "\n",
    "plt.grid('on')\n",
    "\n",
    "plt.show()"
   ]
  },
  {
   "cell_type": "markdown",
   "id": "7f8ec6c4",
   "metadata": {},
   "source": [
    "There was 250% increase in WNV positive mosquitos from 2015 to 2016, then 2017 saw decline with even lower numbers than 2015. 2016 was when we saw the rise in mosquitos with Zika virus."
   ]
  },
  {
   "cell_type": "markdown",
   "id": "3bc2411e",
   "metadata": {},
   "source": [
    "### References\n",
    "\n",
    "https://www.w3resource.com/pandas/dataframe/dataframe-drop.php\n",
    "\n",
    "https://datascientyst.com/plot-latitude-longitude-pandas-dataframe-python/\n",
    "\n",
    "https://stackoverflow.com/questions/24547047/how-to-make-matplotlib-graphs-look-professionally-done-like-\n",
    "\n",
    "https://www.google.com/search?q=matplotlib+make+graph+look+good&newwindow=1&sxsrf=ALiCzsbpVkFaMi6LE-Dj0GRFjrj2kjNWKQ%3A1659425391865&ei=b9LoYp-xNO6t5NoPx4iYoA0&ved=0ahUKEwjfpI2o0af5AhXuFlkFHUcEBtQQ4dUDCA4&uact=5&oq=matplotlib+make+graph+look+good&gs_lcp=Cgdnd3Mtd2l6EAMyBAgjECc6BwgAEEcQsAM6BQgAEJECOgsIABCABBCxAxCDAToECAAQQzoRCC4QgAQQsQMQgwEQxwEQ0QM6BAguEEM6CggAELEDEIMBEEM6CwgAELEDEIMBEJECOgUIABCABDoICAAQHhAWEAo6BggAEB4QFjoICAAQHhAPEBY6BQgAEIYDSgQIQRgASgQIRhgAUJ8JWM1eYLVgaAtwAXgAgAGBAogBpCSSAQYzLjIxLjeYAQCgAQHIAQjAAQE&sclient=gws-wiz"
   ]
  },
  {
   "cell_type": "code",
   "execution_count": 44,
   "id": "2ea0a89d",
   "metadata": {},
   "outputs": [],
   "source": [
    "!jt -t monokai -cursc r -cursw 5"
   ]
  },
  {
   "cell_type": "code",
   "execution_count": 32,
   "id": "8273f769",
   "metadata": {},
   "outputs": [
    {
     "name": "stdout",
     "output_type": "stream",
     "text": [
      "Available Themes: \r\n",
      "   chesterish\r\n",
      "   grade3\r\n",
      "   gruvboxd\r\n",
      "   gruvboxl\r\n",
      "   monokai\r\n",
      "   oceans16\r\n",
      "   onedork\r\n",
      "   solarizedd\r\n",
      "   solarizedl\r\n"
     ]
    }
   ],
   "source": [
    "\n",
    "!jt -l"
   ]
  }
 ],
 "metadata": {
  "kernelspec": {
   "display_name": "Python 3 (ipykernel)",
   "language": "python",
   "name": "python3"
  },
  "language_info": {
   "codemirror_mode": {
    "name": "ipython",
    "version": 3
   },
   "file_extension": ".py",
   "mimetype": "text/x-python",
   "name": "python",
   "nbconvert_exporter": "python",
   "pygments_lexer": "ipython3",
   "version": "3.9.12"
  }
 },
 "nbformat": 4,
 "nbformat_minor": 5
}
